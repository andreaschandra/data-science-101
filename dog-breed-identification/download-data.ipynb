{
 "cells": [
  {
   "cell_type": "code",
   "execution_count": 3,
   "metadata": {},
   "outputs": [],
   "source": [
    "import gdown"
   ]
  },
  {
   "cell_type": "code",
   "execution_count": 6,
   "metadata": {},
   "outputs": [
    {
     "name": "stderr",
     "output_type": "stream",
     "text": [
      "Downloading...\n",
      "From: https://drive.google.com/uc?id=1vy1cSRJEKsepABA_lgL8ZE2QqgL41SMG\n",
      "To: /storage/exploration/data/aerial-cactus/aerial-cactus.zip\n",
      "25.0MB [00:00, 43.5MB/s]\n"
     ]
    },
    {
     "data": {
      "text/plain": [
       "'../data/aerial-cactus/aerial-cactus.zip'"
      ]
     },
     "execution_count": 6,
     "metadata": {},
     "output_type": "execute_result"
    }
   ],
   "source": [
    "id_ = \"1vy1cSRJEKsepABA_lgL8ZE2QqgL41SMG\"\n",
    "url = f'https://drive.google.com/uc?id={id_}'\n",
    "\n",
    "output = '../data/aerial-cactus/aerial-cactus.zip'\n",
    "\n",
    "gdown.download(url, output, quiet=False)"
   ]
  },
  {
   "cell_type": "code",
   "execution_count": null,
   "metadata": {},
   "outputs": [],
   "source": []
  }
 ],
 "metadata": {
  "kernelspec": {
   "display_name": "Python 3",
   "language": "python",
   "name": "python3"
  },
  "language_info": {
   "codemirror_mode": {
    "name": "ipython",
    "version": 3
   },
   "file_extension": ".py",
   "mimetype": "text/x-python",
   "name": "python",
   "nbconvert_exporter": "python",
   "pygments_lexer": "ipython3",
   "version": "3.6.8"
  }
 },
 "nbformat": 4,
 "nbformat_minor": 4
}
